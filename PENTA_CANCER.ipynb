{
  "nbformat": 4,
  "nbformat_minor": 0,
  "metadata": {
    "accelerator": "GPU",
    "colab": {
      "name": "PENTA_CANCER.ipynb",
      "provenance": [],
      "collapsed_sections": []
    },
    "kernelspec": {
      "display_name": "Python 3",
      "name": "python3"
    }
  },
  "cells": [
    {
      "cell_type": "code",
      "metadata": {
        "colab": {
          "base_uri": "https://localhost:8080/"
        },
        "id": "ACsObgcnEanZ",
        "outputId": "7d8fdd8d-9c43-486c-cf65-9e59feba4303"
      },
      "source": [
        "!git clone https://github.com/myproject-01/penta_cancer.git"
      ],
      "execution_count": null,
      "outputs": [
        {
          "output_type": "stream",
          "text": [
            "Cloning into 'penta_cancer'...\n",
            "remote: Enumerating objects: 1676, done.\u001b[K\n",
            "remote: Counting objects: 100% (1676/1676), done.\u001b[K\n",
            "remote: Compressing objects: 100% (1495/1495), done.\u001b[K\n",
            "^C\n"
          ],
          "name": "stdout"
        }
      ]
    },
    {
      "cell_type": "code",
      "metadata": {
        "colab": {
          "base_uri": "https://localhost:8080/"
        },
        "id": "lPQE4Te4BbhR",
        "outputId": "8c697b4b-f5ce-4bb4-8ca2-ed882582d133"
      },
      "source": [
        "from google.colab import drive\n",
        "drive.mount('/content/drive')"
      ],
      "execution_count": null,
      "outputs": [
        {
          "output_type": "stream",
          "text": [
            "Mounted at /content/drive\n"
          ],
          "name": "stdout"
        }
      ]
    },
    {
      "cell_type": "markdown",
      "metadata": {
        "id": "Hi4r5e3Icje5"
      },
      "source": [
        ""
      ]
    },
    {
      "cell_type": "markdown",
      "metadata": {
        "id": "pvqHtoJ-EZS1"
      },
      "source": [
        ""
      ]
    },
    {
      "cell_type": "code",
      "metadata": {
        "id": "Rmc3hjwlM95B"
      },
      "source": [
        "from sklearn.preprocessing import LabelBinarizer\n",
        "from sklearn.model_selection import train_test_split\n",
        "from sklearn.metrics import classification_report\n",
        "from tensorflow.keras.preprocessing.image import ImageDataGenerator\n",
        "from tensorflow.keras.optimizers import RMSprop\n",
        "# from tensorflow.keras.optimizers import SGD\n",
        "# from tensorflow.keras.optimizers import Adam\n",
        "from tensorflow.keras.layers import Input\n",
        "from tensorflow.keras.models import Model\n",
        "from imutils import paths\n",
        "import numpy as np\n",
        "import argparse\n",
        "import os\n",
        "import matplotlib.pyplot as plt\n",
        "# import the necessary packages\n",
        "from tensorflow.keras.models import Sequential\n",
        "from tensorflow.keras.layers import BatchNormalization\n",
        "from tensorflow.keras.layers import Conv2D\n",
        "from tensorflow.keras.layers import MaxPooling2D\n",
        "from tensorflow.keras.layers import Activation\n",
        "from tensorflow.keras.layers import Flatten\n",
        "from tensorflow.keras.layers import Dropout\n",
        "from tensorflow.keras.layers import Dense\n",
        "from tensorflow.keras import backend as K\n",
        "import matplotlib.pyplot as plt\n",
        "from tensorflow.python.framework import ops\n",
        "from tensorflow.python.keras.optimizer_v2 import optimizer_v2\n",
        "from tensorflow.python.ops import array_ops\n",
        "from tensorflow.python.ops import gen_resource_variable_ops\n",
        "from tensorflow.python.training import gen_training_ops\n",
        "from tensorflow.python.util.tf_export import keras_export\n",
        "\n"
      ],
      "execution_count": null,
      "outputs": []
    },
    {
      "cell_type": "code",
      "metadata": {
        "id": "2dgIwkAtPUHI"
      },
      "source": [
        "from tensorflow.keras.preprocessing.image import img_to_array\n",
        "\n",
        "class ImageToArrayPreprocessor:\n",
        "\tdef __init__(self, dataFormat=None):\n",
        "\t\t# store the image data format\n",
        "\t\tself.dataFormat = dataFormat\n",
        "\n",
        "\tdef preprocess(self, image):\n",
        "\t\t# apply the Keras utility function that correctly rearranges\n",
        "\t\t# the dimensions of the image\n",
        "\t\treturn img_to_array(image, data_format=self.dataFormat)"
      ],
      "execution_count": null,
      "outputs": []
    },
    {
      "cell_type": "code",
      "metadata": {
        "id": "F71R4O5EPUPe"
      },
      "source": [
        "# import the necessary packages\n",
        "import imutils\n",
        "import cv2\n",
        "\n",
        "class AspectAwarePreprocessor:\n",
        "\tdef __init__(self, width, height, inter=cv2.INTER_AREA):\n",
        "\t\t# store the target image width, height, and interpolation\n",
        "\t\t# method used when resizing\n",
        "\t\tself.width = width\n",
        "\t\tself.height = height\n",
        "\t\tself.inter = inter\n",
        "\n",
        "\tdef preprocess(self, image):\n",
        "\t\t# grab the dimensions of the image and then initialize\n",
        "\t\t# the deltas to use when cropping\n",
        "\t\t(h, w) = image.shape[:2]\n",
        "\t\tdW = 0\n",
        "\t\tdH = 0\n",
        "\n",
        "\t\t# if the width is smaller than the height, then resize\n",
        "\t\t# along the width (i.e., the smaller dimension) and then\n",
        "\t\t# update the deltas to crop the height to the desired\n",
        "\t\t# dimension\n",
        "\t\tif w < h:\n",
        "\t\t\timage = imutils.resize(image, width=self.width,\n",
        "\t\t\t\tinter=self.inter)\n",
        "\t\t\tdH = int((image.shape[0] - self.height) / 2.0)\n",
        "\n",
        "\t\t# otherwise, the height is smaller than the width so\n",
        "\t\t# resize along the height and then update the deltas\n",
        "\t\t# crop along the width\n",
        "\t\telse:\n",
        "\t\t\timage = imutils.resize(image, height=self.height,\n",
        "\t\t\t\tinter=self.inter)\n",
        "\t\t\tdW = int((image.shape[1] - self.width) / 2.0)\n",
        "\n",
        "\t\t# now that our images have been resized, we need to\n",
        "\t\t# re-grab the width and height, followed by performing\n",
        "\t\t# the crop\n",
        "\t\t(h, w) = image.shape[:2]\n",
        "\t\timage = image[dH:h - dH, dW:w - dW]\n",
        "\n",
        "\t\t# finally, resize the image to the provided spatial\n",
        "\t\t# dimensions to ensure our output image is always a fixed\n",
        "\t\t# size\n",
        "\t\treturn cv2.resize(image, (self.width, self.height),\n",
        "\t\t\tinterpolation=self.inter)"
      ],
      "execution_count": null,
      "outputs": []
    },
    {
      "cell_type": "code",
      "metadata": {
        "id": "jvYKwDbBM-Ax"
      },
      "source": [
        "aug = ImageDataGenerator(rotation_range=30, width_shift_range=0.1,\n",
        "\theight_shift_range=0.1, shear_range=0.2, zoom_range=0.2,\n",
        "\thorizontal_flip=True, fill_mode=\"nearest\")\n",
        "\n",
        "\n"
      ],
      "execution_count": null,
      "outputs": []
    },
    {
      "cell_type": "code",
      "metadata": {
        "id": "IgVQDMMotrA0"
      },
      "source": [
        "from tensorflow.python.framework import ops\n",
        "from tensorflow.python.keras.optimizer_v2 import optimizer_v2\n",
        "from tensorflow.python.ops import array_ops\n",
        "from tensorflow.python.ops import gen_resource_variable_ops\n",
        "from tensorflow.python.training import gen_training_ops\n",
        "from tensorflow.python.util.tf_export import keras_export\n",
        "\n",
        "class SGD(optimizer_v2.OptimizerV2):\n",
        " \n",
        "  _HAS_AGGREGATE_GRAD = True\n",
        "\n",
        "  def __init__(self,\n",
        "               learning_rate=0.01,\n",
        "               momentum=0.0,\n",
        "               nesterov=False,\n",
        "               name=\"SGD\",\n",
        "               **kwargs):\n",
        "    super(SGD, self).__init__(name, **kwargs)\n",
        "    self._set_hyper(\"learning_rate\", kwargs.get(\"lr\", learning_rate))\n",
        "    self._set_hyper(\"decay\", self._initial_decay)\n",
        "\n",
        "    self._momentum = False\n",
        "    if isinstance(momentum, ops.Tensor) or callable(momentum) or momentum > 0:\n",
        "      self._momentum = True\n",
        "    if isinstance(momentum, (int, float)) and (momentum < 0 or momentum > 1):\n",
        "      raise ValueError(\"`momentum` must be between [0, 1].\")\n",
        "    self._set_hyper(\"momentum\", momentum)\n",
        "\n",
        "    self.nesterov = nesterov\n",
        "\n",
        "  def _create_slots(self, var_list):\n",
        "    if self._momentum:\n",
        "      for var in var_list:\n",
        "        self.add_slot(var, \"momentum\")\n",
        "\n",
        "  def _prepare_local(self, var_device, var_dtype, apply_state):\n",
        "    super(SGD, self)._prepare_local(var_device, var_dtype, apply_state)\n",
        "    apply_state[(var_device, var_dtype)][\"momentum\"] = array_ops.identity(\n",
        "        self._get_hyper(\"momentum\", var_dtype))\n",
        "\n",
        "  def _resource_apply_dense(self, grad, var, apply_state=None):\n",
        "    var_device, var_dtype = var.device, var.dtype.base_dtype\n",
        "    coefficients = ((apply_state or {}).get((var_device, var_dtype))\n",
        "                    or self._fallback_apply_state(var_device, var_dtype))\n",
        "\n",
        "    if self._momentum:\n",
        "      momentum_var = self.get_slot(var, \"momentum\")\n",
        "      return gen_training_ops.ResourceApplyKerasMomentum(\n",
        "          var=var.handle,\n",
        "          accum=momentum_var.handle,\n",
        "          lr=coefficients[\"lr_t\"],\n",
        "          grad=grad,\n",
        "          momentum=coefficients[\"momentum\"],\n",
        "          use_locking=self._use_locking,\n",
        "          use_nesterov=self.nesterov)\n",
        "    else:\n",
        "      return gen_training_ops.ResourceApplyGradientDescent(\n",
        "          var=var.handle,\n",
        "          alpha=coefficients[\"lr_t\"],\n",
        "          delta=grad,\n",
        "          use_locking=self._use_locking)\n",
        "\n",
        "  def _resource_apply_sparse_duplicate_indices(self, grad, var, indices,\n",
        "                                               **kwargs):\n",
        "    if self._momentum:\n",
        "      return super(SGD, self)._resource_apply_sparse_duplicate_indices(\n",
        "          grad, var, indices, **kwargs)\n",
        "    else:\n",
        "      var_device, var_dtype = var.device, var.dtype.base_dtype\n",
        "      coefficients = (kwargs.get(\"apply_state\", {}).get((var_device, var_dtype))\n",
        "                      or self._fallback_apply_state(var_device, var_dtype))\n",
        "\n",
        "      return gen_resource_variable_ops.ResourceScatterAdd(\n",
        "          resource=var.handle,\n",
        "          indices=indices,\n",
        "          updates=-grad * coefficients[\"lr_t\"])\n",
        "\n",
        "  def _resource_apply_sparse(self, grad, var, indices, apply_state=None):\n",
        "    # This method is only needed for momentum optimization.\n",
        "    var_device, var_dtype = var.device, var.dtype.base_dtype\n",
        "    coefficients = ((apply_state or {}).get((var_device, var_dtype))\n",
        "                    or self._fallback_apply_state(var_device, var_dtype))\n",
        "\n",
        "    momentum_var = self.get_slot(var, \"momentum\")\n",
        "    return gen_training_ops.ResourceSparseApplyKerasMomentum(\n",
        "        var=var.handle,\n",
        "        accum=momentum_var.handle,\n",
        "        lr=coefficients[\"lr_t\"],\n",
        "        grad=grad,\n",
        "        indices=indices,\n",
        "        momentum=coefficients[\"momentum\"],\n",
        "        use_locking=self._use_locking,\n",
        "        use_nesterov=self.nesterov)\n",
        "\n",
        "  def get_config(self):\n",
        "    config = super(SGD, self).get_config()\n",
        "    config.update({\n",
        "        \"learning_rate\": self._serialize_hyperparameter(\"learning_rate\"),\n",
        "        \"decay\": self._serialize_hyperparameter(\"decay\"),\n",
        "        \"momentum\": self._serialize_hyperparameter(\"momentum\"),\n",
        "        \"nesterov\": self.nesterov,\n",
        "    })\n",
        "    return config\n",
        "\n",
        "\n",
        "from tensorflow.python.eager import def_function\n",
        "from tensorflow.python.framework import ops\n",
        "from tensorflow.python.keras import backend_config\n",
        "from tensorflow.python.keras.optimizer_v2 import optimizer_v2\n",
        "from tensorflow.python.ops import array_ops\n",
        "from tensorflow.python.ops import control_flow_ops\n",
        "from tensorflow.python.ops import math_ops\n",
        "from tensorflow.python.ops import state_ops\n",
        "from tensorflow.python.training import gen_training_ops\n",
        "from tensorflow.python.util.tf_export import keras_export\n",
        "\n",
        "class Adam(optimizer_v2.OptimizerV2):\n",
        " \n",
        "\n",
        "  _HAS_AGGREGATE_GRAD = True\n",
        "\n",
        "  def __init__(self,\n",
        "               learning_rate=0.001,\n",
        "               beta_1=0.9,\n",
        "               beta_2=0.999,\n",
        "               epsilon=1e-7,\n",
        "               amsgrad=False,\n",
        "               name='Adam',\n",
        "               **kwargs):\n",
        "    super(Adam, self).__init__(name, **kwargs)\n",
        "    self._set_hyper('learning_rate', kwargs.get('lr', learning_rate))\n",
        "    self._set_hyper('decay', self._initial_decay)\n",
        "    self._set_hyper('beta_1', beta_1)\n",
        "    self._set_hyper('beta_2', beta_2)\n",
        "    self.epsilon = epsilon or backend_config.epsilon()\n",
        "    self.amsgrad = amsgrad\n",
        "\n",
        "  def _create_slots(self, var_list):\n",
        "    # Create slots for the first and second moments.\n",
        "    # Separate for-loops to respect the ordering of slot variables from v1.\n",
        "    for var in var_list:\n",
        "      self.add_slot(var, 'm')\n",
        "    for var in var_list:\n",
        "      self.add_slot(var, 'v')\n",
        "    if self.amsgrad:\n",
        "      for var in var_list:\n",
        "        self.add_slot(var, 'vhat')\n",
        "\n",
        "  def _prepare_local(self, var_device, var_dtype, apply_state):\n",
        "    super(Adam, self)._prepare_local(var_device, var_dtype, apply_state)\n",
        "\n",
        "    local_step = math_ops.cast(self.iterations + 1, var_dtype)\n",
        "    beta_1_t = array_ops.identity(self._get_hyper('beta_1', var_dtype))\n",
        "    beta_2_t = array_ops.identity(self._get_hyper('beta_2', var_dtype))\n",
        "    beta_1_power = math_ops.pow(beta_1_t, local_step)\n",
        "    beta_2_power = math_ops.pow(beta_2_t, local_step)\n",
        "    lr = (apply_state[(var_device, var_dtype)]['lr_t'] *\n",
        "          (math_ops.sqrt(1 - beta_2_power) / (1 - beta_1_power)))\n",
        "    apply_state[(var_device, var_dtype)].update(\n",
        "        dict(\n",
        "            lr=lr,\n",
        "            epsilon=ops.convert_to_tensor_v2_with_dispatch(\n",
        "                self.epsilon, var_dtype),\n",
        "            beta_1_t=beta_1_t,\n",
        "            beta_1_power=beta_1_power,\n",
        "            one_minus_beta_1_t=1 - beta_1_t,\n",
        "            beta_2_t=beta_2_t,\n",
        "            beta_2_power=beta_2_power,\n",
        "            one_minus_beta_2_t=1 - beta_2_t))\n",
        "\n",
        "  def set_weights(self, weights):\n",
        "    params = self.weights\n",
        "    # If the weights are generated by Keras V1 optimizer, it includes vhats\n",
        "    # even without amsgrad, i.e, V1 optimizer has 3x + 1 variables, while V2\n",
        "    # optimizer has 2x + 1 variables. Filter vhats out for compatibility.\n",
        "    num_vars = int((len(params) - 1) / 2)\n",
        "    if len(weights) == 3 * num_vars + 1:\n",
        "      weights = weights[:len(params)]\n",
        "    super(Adam, self).set_weights(weights)\n",
        "\n",
        "  def _resource_apply_dense(self, grad, var, apply_state=None):\n",
        "    var_device, var_dtype = var.device, var.dtype.base_dtype\n",
        "    coefficients = ((apply_state or {}).get((var_device, var_dtype))\n",
        "                    or self._fallback_apply_state(var_device, var_dtype))\n",
        "\n",
        "    m = self.get_slot(var, 'm')\n",
        "    v = self.get_slot(var, 'v')\n",
        "\n",
        "    if not self.amsgrad:\n",
        "      return gen_training_ops.ResourceApplyAdam(\n",
        "          var=var.handle,\n",
        "          m=m.handle,\n",
        "          v=v.handle,\n",
        "          beta1_power=coefficients['beta_1_power'],\n",
        "          beta2_power=coefficients['beta_2_power'],\n",
        "          lr=coefficients['lr_t'],\n",
        "          beta1=coefficients['beta_1_t'],\n",
        "          beta2=coefficients['beta_2_t'],\n",
        "          epsilon=coefficients['epsilon'],\n",
        "          grad=grad,\n",
        "          use_locking=self._use_locking)\n",
        "    else:\n",
        "      vhat = self.get_slot(var, 'vhat')\n",
        "      return gen_training_ops.ResourceApplyAdamWithAmsgrad(\n",
        "          var=var.handle,\n",
        "          m=m.handle,\n",
        "          v=v.handle,\n",
        "          vhat=vhat.handle,\n",
        "          beta1_power=coefficients['beta_1_power'],\n",
        "          beta2_power=coefficients['beta_2_power'],\n",
        "          lr=coefficients['lr_t'],\n",
        "          beta1=coefficients['beta_1_t'],\n",
        "          beta2=coefficients['beta_2_t'],\n",
        "          epsilon=coefficients['epsilon'],\n",
        "          grad=grad,\n",
        "          use_locking=self._use_locking)\n",
        "\n",
        "  def _resource_apply_sparse(self, grad, var, indices, apply_state=None):\n",
        "    var_device, var_dtype = var.device, var.dtype.base_dtype\n",
        "    coefficients = ((apply_state or {}).get((var_device, var_dtype))\n",
        "                    or self._fallback_apply_state(var_device, var_dtype))\n",
        "\n",
        "    # m_t = beta1 * m + (1 - beta1) * g_t\n",
        "    m = self.get_slot(var, 'm')\n",
        "    m_scaled_g_values = grad * coefficients['one_minus_beta_1_t']\n",
        "    m_t = state_ops.assign(m, m * coefficients['beta_1_t'],\n",
        "                           use_locking=self._use_locking)\n",
        "    with ops.control_dependencies([m_t]):\n",
        "      m_t = self._resource_scatter_add(m, indices, m_scaled_g_values)\n",
        "\n",
        "    # v_t = beta2 * v + (1 - beta2) * (g_t * g_t)\n",
        "    v = self.get_slot(var, 'v')\n",
        "    v_scaled_g_values = (grad * grad) * coefficients['one_minus_beta_2_t']\n",
        "    v_t = state_ops.assign(v, v * coefficients['beta_2_t'],\n",
        "                           use_locking=self._use_locking)\n",
        "    with ops.control_dependencies([v_t]):\n",
        "      v_t = self._resource_scatter_add(v, indices, v_scaled_g_values)\n",
        "\n",
        "    if not self.amsgrad:\n",
        "      v_sqrt = math_ops.sqrt(v_t)\n",
        "      var_update = state_ops.assign_sub(\n",
        "          var, coefficients['lr'] * m_t / (v_sqrt + coefficients['epsilon']),\n",
        "          use_locking=self._use_locking)\n",
        "      return control_flow_ops.group(*[var_update, m_t, v_t])\n",
        "    else:\n",
        "      v_hat = self.get_slot(var, 'vhat')\n",
        "      v_hat_t = math_ops.maximum(v_hat, v_t)\n",
        "      with ops.control_dependencies([v_hat_t]):\n",
        "        v_hat_t = state_ops.assign(\n",
        "            v_hat, v_hat_t, use_locking=self._use_locking)\n",
        "      v_hat_sqrt = math_ops.sqrt(v_hat_t)\n",
        "      var_update = state_ops.assign_sub(\n",
        "          var,\n",
        "          coefficients['lr'] * m_t / (v_hat_sqrt + coefficients['epsilon']),\n",
        "          use_locking=self._use_locking)\n",
        "      return control_flow_ops.group(*[var_update, m_t, v_t, v_hat_t])\n",
        "\n",
        "  def get_config(self):\n",
        "    config = super(Adam, self).get_config()\n",
        "    config.update({\n",
        "        'learning_rate': self._serialize_hyperparameter('learning_rate'),\n",
        "        'decay': self._serialize_hyperparameter('decay'),\n",
        "        'beta_1': self._serialize_hyperparameter('beta_1'),\n",
        "        'beta_2': self._serialize_hyperparameter('beta_2'),\n",
        "        'epsilon': self.epsilon,\n",
        "        'amsgrad': self.amsgrad,\n",
        "    })\n",
        "    return config\n",
        "\n",
        "\n",
        "class NonFusedAdam(optimizer_v2.OptimizerV2):\n",
        "\n",
        "\n",
        "  _HAS_AGGREGATE_GRAD = True\n",
        "\n",
        "  def __init__(self,\n",
        "               learning_rate=0.001,\n",
        "               beta_1=0.9,\n",
        "               beta_2=0.999,\n",
        "               epsilon=1e-7,\n",
        "               amsgrad=False,\n",
        "               name='Adam',\n",
        "               **kwargs):\n",
        "   \n",
        "    super(NonFusedAdam, self).__init__(name, **kwargs)\n",
        "    self._set_hyper('learning_rate', kwargs.get('lr', learning_rate))\n",
        "    self._set_hyper('decay', self._initial_decay)\n",
        "    self._set_hyper('beta_1', beta_1)\n",
        "    self._set_hyper('beta_2', beta_2)\n",
        "    self.epsilon = epsilon or backend_config.epsilon()\n",
        "    self.amsgrad = amsgrad\n",
        "\n",
        "  def _create_slots(self, var_list):\n",
        "    # Create slots for the first and second moments.\n",
        "    # Separate for-loops to respect the ordering of slot variables from v1.\n",
        "    for var in var_list:\n",
        "      self.add_slot(var, 'm')\n",
        "    for var in var_list:\n",
        "      self.add_slot(var, 'v')\n",
        "    if self.amsgrad:\n",
        "      for var in var_list:\n",
        "        self.add_slot(var, 'vhat')\n",
        "\n",
        "  def _prepare_local(self, var_device, var_dtype, apply_state):\n",
        "    super(NonFusedAdam, self)._prepare_local(var_device, var_dtype, apply_state)\n",
        "\n",
        "    local_step = math_ops.cast(self.iterations + 1, var_dtype)\n",
        "    beta_1_t = array_ops.identity(self._get_hyper('beta_1', var_dtype))\n",
        "    beta_2_t = array_ops.identity(self._get_hyper('beta_2', var_dtype))\n",
        "    beta_1_power = math_ops.pow(beta_1_t, local_step)\n",
        "    beta_2_power = math_ops.pow(beta_2_t, local_step)\n",
        "    lr = (\n",
        "        apply_state[(var_device, var_dtype)]['lr_t'] *\n",
        "        (math_ops.sqrt(1 - beta_2_power) / (1 - beta_1_power)))\n",
        "    apply_state[(var_device, var_dtype)].update(\n",
        "        dict(\n",
        "            lr=lr,\n",
        "            epsilon=ops.convert_to_tensor_v2_with_dispatch(\n",
        "                self.epsilon, var_dtype),\n",
        "            beta_1_t=beta_1_t,\n",
        "            beta_1_power=beta_1_power,\n",
        "            one_minus_beta_1_t=1 - beta_1_t,\n",
        "            beta_2_t=beta_2_t,\n",
        "            beta_2_power=beta_2_power,\n",
        "            one_minus_beta_2_t=1 - beta_2_t))\n",
        "\n",
        "  def set_weights(self, weights):\n",
        "    params = self.weights\n",
        "    # If the weights are generated by Keras V1 optimizer, it includes vhats\n",
        "    # even without amsgrad, i.e, V1 optimizer has 3x + 1 variables, while V2\n",
        "    # optimizer has 2x + 1 variables. Filter vhats out for compatibility.\n",
        "    num_vars = int((len(params) - 1) / 2)\n",
        "    if len(weights) == 3 * num_vars + 1:\n",
        "      weights = weights[:len(params)]\n",
        "    super(NonFusedAdam, self).set_weights(weights)\n",
        "\n",
        "  @def_function.function(experimental_compile=True)\n",
        "  def _resource_apply_dense(self, grad, var, apply_state=None):\n",
        "    var_device, var_dtype = var.device, var.dtype.base_dtype\n",
        "    coefficients = ((apply_state or {}).get((var_device, var_dtype)) or\n",
        "                    self._fallback_apply_state(var_device, var_dtype))\n",
        "\n",
        "    m = self.get_slot(var, 'm')\n",
        "    v = self.get_slot(var, 'v')\n",
        "\n",
        "    alpha = (\n",
        "        coefficients['lr_t'] * math_ops.sqrt(1 - coefficients['beta_2_power']) /\n",
        "        (1 - coefficients['beta_1_power']))\n",
        "    m.assign_add((grad - m) * (1 - coefficients['beta_1_t']))\n",
        "    v.assign_add((math_ops.square(grad) - v) * (1 - coefficients['beta_2_t']))\n",
        "    if self.amsgrad:\n",
        "      vhat = self.get_slot(var, 'vhat')\n",
        "      vhat.assign(math_ops.maximum(vhat, v))\n",
        "      v = vhat\n",
        "    var.assign_sub(\n",
        "        (m * alpha) / (math_ops.sqrt(v) - coefficients['epsilon']))\n",
        "\n",
        "  @def_function.function(experimental_compile=True)\n",
        "  def _resource_apply_sparse(self, grad, var, indices, apply_state=None):\n",
        "    var_device, var_dtype = var.device, var.dtype.base_dtype\n",
        "    coefficients = ((apply_state or {}).get((var_device, var_dtype)) or\n",
        "                    self._fallback_apply_state(var_device, var_dtype))\n",
        "\n",
        "    # m_t = beta1 * m + (1 - beta1) * g_t\n",
        "    m = self.get_slot(var, 'm')\n",
        "    m_scaled_g_values = grad * coefficients['one_minus_beta_1_t']\n",
        "    m.assign(m * coefficients['beta_1_t'])\n",
        "    m.scatter_add(ops.IndexedSlices(m_scaled_g_values, indices))\n",
        "\n",
        "    # v_t = beta2 * v + (1 - beta2) * (g_t * g_t)\n",
        "    v = self.get_slot(var, 'v')\n",
        "    v_scaled_g_values = (grad * grad) * coefficients['one_minus_beta_2_t']\n",
        "    v.assign(v * coefficients['beta_2_t'])\n",
        "    v.scatter_add(ops.IndexedSlices(v_scaled_g_values, indices))\n",
        "\n",
        "    if not self.amsgrad:\n",
        "      var.assign_sub(coefficients['lr'] * m /\n",
        "                     (math_ops.sqrt(v) + coefficients['epsilon']))\n",
        "    else:\n",
        "      v_hat = self.get_slot(var, 'vhat')\n",
        "      v_hat.assign(math_ops.maximum(v_hat, v))\n",
        "      var.assign_sub(coefficients['lr'] * m /\n",
        "                     (math_ops.sqrt(v_hat) + coefficients['epsilon']))\n",
        "\n",
        "  def get_config(self):\n",
        "    config = super(NonFusedAdam, self).get_config()\n",
        "    config.update({\n",
        "        'learning_rate': self._serialize_hyperparameter('learning_rate'),\n",
        "        'decay': self._serialize_hyperparameter('decay'),\n",
        "        'beta_1': self._serialize_hyperparameter('beta_1'),\n",
        "        'beta_2': self._serialize_hyperparameter('beta_2'),\n",
        "        'epsilon': self.epsilon,\n",
        "        'amsgrad': self.amsgrad,\n",
        "    })\n",
        "    return config"
      ],
      "execution_count": null,
      "outputs": []
    },
    {
      "cell_type": "code",
      "metadata": {
        "id": "pSNHH2y2KJid"
      },
      "source": [
        "\n",
        " \n",
        "class VGG16:\n",
        "\t@staticmethod\n",
        "\tdef build(width, height, depth, classes):\n",
        "\t\t# initialize the model along with the input shape to be\n",
        "\t\t# \"channels last\" and the channels dimension itself\n",
        "\t\tmodel = Sequential()\n",
        "\t\tinputShape = (height, width, depth)\n",
        "\t\tchanDim = -1\n",
        "\n",
        "\t\t# if we are using \"channels first\", update the input shape\n",
        "\t\t# and channels dimension\n",
        "\t\tif K.image_data_format() == \"channels_first\":\n",
        "\t\t\tinputShape = (depth, height, width)\n",
        "\t\t\tchanDim = 1\n",
        "\n",
        "\t\t# first CONV => RELU => CONV => RELU => POOL layer set\n",
        "\t\tmodel.add(Conv2D(32, (3, 3), padding=\"same\",\n",
        "\t\t\tinput_shape=inputShape))\n",
        "\t\tmodel.add(Activation(\"relu\"))\n",
        "\t\tmodel.add(BatchNormalization(axis=chanDim))\n",
        "\t\tmodel.add(Conv2D(32, (3, 3), padding=\"same\"))\n",
        "\t\tmodel.add(Activation(\"relu\"))\n",
        "\t\tmodel.add(BatchNormalization(axis=chanDim))\n",
        "\t\tmodel.add(MaxPooling2D(pool_size=(2, 2)))\n",
        "\t\tmodel.add(Dropout(0.25))\n",
        "\n",
        "\t\t# second CONV => RELU => CONV => RELU => POOL layer set\n",
        "\t\tmodel.add(Conv2D(64, (3, 3), padding=\"same\"))\n",
        "\t\tmodel.add(Activation(\"relu\"))\n",
        "\t\tmodel.add(BatchNormalization(axis=chanDim))\n",
        "\t\tmodel.add(Conv2D(64, (3, 3), padding=\"same\"))\n",
        "\t\tmodel.add(Activation(\"relu\"))\n",
        "\t\tmodel.add(BatchNormalization(axis=chanDim))\n",
        "\t\tmodel.add(MaxPooling2D(pool_size=(2, 2)))\n",
        "\t\tmodel.add(Dropout(0.25))\n",
        "\n",
        "\t\t# first (and only) set of FC => RELU layers\n",
        "\t\tmodel.add(Flatten())\n",
        "\t\tmodel.add(Dense(512))\n",
        "\t\tmodel.add(Activation(\"relu\"))\n",
        "\t\tmodel.add(BatchNormalization())\n",
        "\t\tmodel.add(Dropout(0.5))\n",
        "\n",
        "\t\t# softmax classifier\n",
        "\t\tmodel.add(Dense(classes))\n",
        "\t\tmodel.add(Activation(\"softmax\"))\n",
        "\n",
        "\t\t# return the constructed network architecture\n",
        "\t\treturn model\n"
      ],
      "execution_count": null,
      "outputs": []
    },
    {
      "cell_type": "code",
      "metadata": {
        "id": "j-4yXgt9RKYS"
      },
      "source": [
        "# import the necessary packages\n",
        "import numpy as np\n",
        "import cv2\n",
        "import os\n",
        "\n",
        "class SimpleDatasetLoader:\n",
        "\tdef __init__(self, preprocessors=None):\n",
        "\t\t# store the image preprocessor\n",
        "\t\tself.preprocessors = preprocessors\n",
        "\n",
        "\t\t# if the preprocessors are None, initialize them as an\n",
        "\t\t# empty list\n",
        "\t\tif self.preprocessors is None:\n",
        "\t\t\tself.preprocessors = []\n",
        "\n",
        "\tdef load(self, imagePaths, verbose=-1):\n",
        "\t\t# initialize the list of features and labels\n",
        "\t\tdata = []\n",
        "\t\tlabels = []\n",
        "\n",
        "\t\t# loop over the input images\n",
        "\t\tfor (i, imagePath) in enumerate(imagePaths):\n",
        "\t\t\t# load the image and extract the class label assuming\n",
        "\t\t\t# that our path has the following format:\n",
        "\t\t\t# /path/to/dataset/{class}/{image}.jpg\n",
        "\t\t\timage = cv2.imread(imagePath)\n",
        "\t\t\tlabel = imagePath.split(os.path.sep)[-2]\n",
        "\n",
        "\t\t\t# check to see if our preprocessors are not None\n",
        "\t\t\tif self.preprocessors is not None:\n",
        "\t\t\t\t# loop over the preprocessors and apply each to\n",
        "\t\t\t\t# the image\n",
        "\t\t\t\tfor p in self.preprocessors:\n",
        "\t\t\t\t\timage = p.preprocess(image)\n",
        "\n",
        "\t\t\t# treat our processed image as a \"feature vector\"\n",
        "\t\t\t# by updating the data list followed by the labels\n",
        "\t\t\tdata.append(image)\n",
        "\t\t\tlabels.append(label)\n",
        "\n",
        "\t\t\t# show an update every `verbose` images\n",
        "\t\t\tif verbose > 0 and i > 0 and (i + 1) % verbose == 0:\n",
        "\t\t\t\tprint(\"[INFO] processed {}/{}\".format(i + 1,\n",
        "\t\t\t\t\tlen(imagePaths)))\n",
        "\n",
        "\t\t# return a tuple of the data and labels\n",
        "\t\treturn (np.array(data), np.array(labels))"
      ],
      "execution_count": null,
      "outputs": []
    },
    {
      "cell_type": "code",
      "metadata": {
        "colab": {
          "base_uri": "https://localhost:8080/"
        },
        "id": "1SlESW-WQpEm",
        "outputId": "fadda544-0dfd-4ce8-cbe0-6bbc964e1699"
      },
      "source": [
        "# grab the list of images that we'll be describing, then extract\n",
        "# the class label names from the image paths\n",
        "print(\"[INFO] loading images...\")\n",
        "imagePaths = list(paths.list_images(\"drive/MyDrive/penta_dataset/\"))\n",
        "classNames = [pt.split(os.path.sep)[-2] for pt in imagePaths]\n",
        "classNames = [str(x) for x in np.unique(classNames)]\n",
        "\n",
        "# initialize the image preprocessors\n",
        "aap = AspectAwarePreprocessor(224, 224)\n",
        "iap = ImageToArrayPreprocessor()\n",
        "\n",
        "# load the dataset from disk then scale the raw pixel intensities to\n",
        "# the range [0, 1]\n",
        "sdl = SimpleDatasetLoader(preprocessors=[aap, iap])\n",
        "(data, labels) = sdl.load(imagePaths, verbose=100)\n",
        "data = data.astype(\"float\") / 255.0\n"
      ],
      "execution_count": null,
      "outputs": [
        {
          "output_type": "stream",
          "text": [
            "[INFO] loading images...\n",
            "[INFO] processed 100/2863\n",
            "[INFO] processed 200/2863\n",
            "[INFO] processed 300/2863\n",
            "[INFO] processed 400/2863\n",
            "[INFO] processed 500/2863\n",
            "[INFO] processed 600/2863\n",
            "[INFO] processed 700/2863\n",
            "[INFO] processed 800/2863\n",
            "[INFO] processed 900/2863\n",
            "[INFO] processed 1000/2863\n",
            "[INFO] processed 1100/2863\n",
            "[INFO] processed 1200/2863\n",
            "[INFO] processed 1300/2863\n",
            "[INFO] processed 1400/2863\n",
            "[INFO] processed 1500/2863\n",
            "[INFO] processed 1600/2863\n",
            "[INFO] processed 1700/2863\n",
            "[INFO] processed 1800/2863\n",
            "[INFO] processed 1900/2863\n",
            "[INFO] processed 2000/2863\n",
            "[INFO] processed 2100/2863\n",
            "[INFO] processed 2200/2863\n",
            "[INFO] processed 2300/2863\n",
            "[INFO] processed 2400/2863\n",
            "[INFO] processed 2500/2863\n",
            "[INFO] processed 2600/2863\n",
            "[INFO] processed 2700/2863\n",
            "[INFO] processed 2800/2863\n"
          ],
          "name": "stdout"
        }
      ]
    },
    {
      "cell_type": "code",
      "metadata": {
        "id": "wMdAAVEbM-HQ"
      },
      "source": [
        "# partition the data into training and testing splits using 75% of\n",
        "# the data for training and the remaining 25% for testing\n",
        "(trainX, testX, trainY, testY) = train_test_split(data, labels,\n",
        "\ttest_size=0.25, random_state=42)\n",
        "\n",
        "# convert the labels from integers to vectors\n",
        "trainY = LabelBinarizer().fit_transform(trainY)\n",
        "testY = LabelBinarizer().fit_transform(testY)\n",
        "\n",
        "\n",
        "\n"
      ],
      "execution_count": null,
      "outputs": []
    },
    {
      "cell_type": "code",
      "metadata": {
        "colab": {
          "base_uri": "https://localhost:8080/",
          "height": 1000
        },
        "id": "MBh0T0fgM-No",
        "outputId": "56a0dba3-2470-4e09-ce04-7f244eccbb48"
      },
      "source": [
        "model = VGG16.build(224,224, 3, 11)\n",
        "\n",
        "print(\"[INFO] compiling model...\")\n",
        "opt = Adam(lr=0.001)\n",
        "model.compile(loss=\"categorical_crossentropy\", optimizer=opt,\n",
        "\tmetrics=[\"accuracy\"])\n",
        "\n",
        "\n",
        "print(\"[INFO] training head...\")\n",
        "model.fit_generator(aug.flow(trainX, trainY, batch_size=32),\n",
        "\tvalidation_data=(testX, testY), epochs=20,\n",
        "\tsteps_per_epoch=len(trainX) // 32, verbose=1)\n",
        "\n",
        "# evaluate the network after initialization\n",
        "print(\"[INFO] evaluating after initialization...\")\n",
        "predictions = model.predict(testX, batch_size=32)\n",
        "print(classification_report(testY.argmax(axis=1),\n",
        "\tpredictions.argmax(axis=1), target_names=classNames))\n",
        "print(\"[INFO] re-compiling model...\")\n",
        "opt = SGD(lr=0.001)\n",
        "model.compile(loss=\"categorical_crossentropy\", optimizer=opt,\n",
        "\tmetrics=[\"accuracy\"])\n",
        "\n",
        "\n",
        "print(\"[INFO] fine-tuning model...\")\n",
        "H = model.fit_generator(aug.flow(trainX, trainY, batch_size=32),\n",
        "\tvalidation_data=(testX, testY), epochs=20,\n",
        "\tsteps_per_epoch=len(trainX) // 32, verbose=1)\n",
        "\n",
        "for key in H.history.keys():\n",
        "    print(key)\n",
        "# evaluate the network on the fine-tuned model\n",
        "print(\"[INFO] evaluating after fine-tuning...\")\n",
        "predictions = model.predict(testX, batch_size=32)\n",
        "print(classification_report(testY.argmax(axis=1),\n",
        "\tpredictions.argmax(axis=1), target_names=classNames))\n",
        "\n",
        "\n",
        "# save the model to disk\n",
        "print(\"[INFO] serializing model...\")\n",
        "model.save(\"output.model\")\n",
        "\n",
        "plt.style.use(\"ggplot\")\n",
        "plt.figure()\n",
        "plt.plot(np.arange(0, 20), H.history[\"loss\"], label=\"train_loss\")\n",
        "plt.plot(np.arange(0, 20), H.history[\"val_loss\"], label=\"val_loss\")\n",
        "plt.plot(np.arange(0, 20), H.history[\"accuracy\"], label=\"train_acc\")\n",
        "plt.plot(np.arange(0, 20), H.history[\"val_accuracy\"], label=\"val_acc\")\n",
        "plt.title(\"Training Loss and Accuracy on penta cancer\")\n",
        "plt.xlabel(\"Epoch #\")\n",
        "plt.ylabel(\"Loss/Accuracy\")\n",
        "plt.legend()\n",
        "plt.savefig(\"output.png\")"
      ],
      "execution_count": null,
      "outputs": [
        {
          "output_type": "stream",
          "text": [
            "[INFO] compiling model...\n",
            "[INFO] training head...\n"
          ],
          "name": "stdout"
        },
        {
          "output_type": "stream",
          "text": [
            "/usr/local/lib/python3.7/dist-packages/tensorflow/python/keras/engine/training.py:1844: UserWarning: `Model.fit_generator` is deprecated and will be removed in a future version. Please use `Model.fit`, which supports generators.\n",
            "  warnings.warn('`Model.fit_generator` is deprecated and '\n"
          ],
          "name": "stderr"
        },
        {
          "output_type": "stream",
          "text": [
            "Epoch 1/20\n",
            "67/67 [==============================] - 66s 509ms/step - loss: 1.6822 - accuracy: 0.5603 - val_loss: 6.7599 - val_accuracy: 0.1187\n",
            "Epoch 2/20\n",
            "67/67 [==============================] - 32s 480ms/step - loss: 0.8196 - accuracy: 0.7047 - val_loss: 7.4289 - val_accuracy: 0.2137\n",
            "Epoch 3/20\n",
            "67/67 [==============================] - 32s 480ms/step - loss: 0.7128 - accuracy: 0.7493 - val_loss: 6.0396 - val_accuracy: 0.2556\n",
            "Epoch 4/20\n",
            "67/67 [==============================] - 32s 488ms/step - loss: 0.5849 - accuracy: 0.7888 - val_loss: 5.8158 - val_accuracy: 0.2472\n",
            "Epoch 5/20\n",
            "67/67 [==============================] - 32s 477ms/step - loss: 0.4759 - accuracy: 0.8200 - val_loss: 6.3775 - val_accuracy: 0.2891\n",
            "Epoch 6/20\n",
            "67/67 [==============================] - 32s 481ms/step - loss: 0.5110 - accuracy: 0.8237 - val_loss: 4.6267 - val_accuracy: 0.2975\n",
            "Epoch 7/20\n",
            "67/67 [==============================] - 32s 479ms/step - loss: 0.4458 - accuracy: 0.8274 - val_loss: 1.4159 - val_accuracy: 0.6047\n",
            "Epoch 8/20\n",
            "67/67 [==============================] - 32s 482ms/step - loss: 0.3709 - accuracy: 0.8614 - val_loss: 2.1901 - val_accuracy: 0.5293\n",
            "Epoch 9/20\n",
            "67/67 [==============================] - 32s 477ms/step - loss: 0.4084 - accuracy: 0.8454 - val_loss: 0.8065 - val_accuracy: 0.6788\n",
            "Epoch 10/20\n",
            "67/67 [==============================] - 32s 478ms/step - loss: 0.3604 - accuracy: 0.8524 - val_loss: 0.4598 - val_accuracy: 0.8170\n",
            "Epoch 11/20\n",
            "67/67 [==============================] - 32s 480ms/step - loss: 0.3782 - accuracy: 0.8507 - val_loss: 0.9113 - val_accuracy: 0.7556\n",
            "Epoch 12/20\n",
            "67/67 [==============================] - 32s 479ms/step - loss: 0.4206 - accuracy: 0.8415 - val_loss: 0.7309 - val_accuracy: 0.8031\n",
            "Epoch 13/20\n",
            "67/67 [==============================] - 32s 479ms/step - loss: 0.3641 - accuracy: 0.8522 - val_loss: 0.2565 - val_accuracy: 0.9008\n",
            "Epoch 14/20\n",
            "67/67 [==============================] - 32s 480ms/step - loss: 0.3229 - accuracy: 0.8644 - val_loss: 0.3210 - val_accuracy: 0.8603\n",
            "Epoch 15/20\n",
            "67/67 [==============================] - 32s 481ms/step - loss: 0.3086 - accuracy: 0.8692 - val_loss: 0.6392 - val_accuracy: 0.7668\n",
            "Epoch 16/20\n",
            "67/67 [==============================] - 32s 477ms/step - loss: 0.4550 - accuracy: 0.8356 - val_loss: 0.6406 - val_accuracy: 0.7751\n",
            "Epoch 17/20\n",
            "67/67 [==============================] - 32s 477ms/step - loss: 0.3370 - accuracy: 0.8685 - val_loss: 0.7254 - val_accuracy: 0.7346\n",
            "Epoch 18/20\n",
            "67/67 [==============================] - 32s 479ms/step - loss: 0.3158 - accuracy: 0.8737 - val_loss: 0.7644 - val_accuracy: 0.7291\n",
            "Epoch 19/20\n",
            "67/67 [==============================] - 32s 478ms/step - loss: 0.3617 - accuracy: 0.8591 - val_loss: 1.1158 - val_accuracy: 0.7011\n",
            "Epoch 20/20\n",
            "67/67 [==============================] - 32s 478ms/step - loss: 0.3682 - accuracy: 0.8478 - val_loss: 2.5679 - val_accuracy: 0.5223\n",
            "[INFO] evaluating after initialization...\n"
          ],
          "name": "stdout"
        },
        {
          "output_type": "stream",
          "text": [
            "/usr/local/lib/python3.7/dist-packages/sklearn/metrics/_classification.py:1272: UndefinedMetricWarning: Precision and F-score are ill-defined and being set to 0.0 in labels with no predicted samples. Use `zero_division` parameter to control this behavior.\n",
            "  _warn_prf(average, modifier, msg_start, len(result))\n"
          ],
          "name": "stderr"
        },
        {
          "output_type": "stream",
          "text": [
            "                 precision    recall  f1-score   support\n",
            "\n",
            "   brain_normal       0.33      1.00      0.50        19\n",
            "   brain_tumour       1.00      0.10      0.18        31\n",
            "  breast_cancer       0.65      0.84      0.73        56\n",
            "  breast_normal       0.66      0.53      0.59       199\n",
            "cervical_cancer       0.00      0.00      0.00        57\n",
            "cervical_normal       0.88      0.69      0.77        52\n",
            "         ignore       0.31      0.95      0.47        87\n",
            "    lung_cancer       0.50      0.01      0.02        87\n",
            "    lung_normal       0.67      0.94      0.78        83\n",
            " thyroid_cancer       1.00      0.04      0.07        26\n",
            " thyroid_normal       1.00      0.05      0.10        19\n",
            "\n",
            "       accuracy                           0.52       716\n",
            "      macro avg       0.64      0.47      0.38       716\n",
            "   weighted avg       0.59      0.52      0.45       716\n",
            "\n",
            "[INFO] re-compiling model...\n",
            "[INFO] fine-tuning model...\n",
            "Epoch 1/20\n",
            "67/67 [==============================] - 33s 481ms/step - loss: 0.3456 - accuracy: 0.8722 - val_loss: 0.7161 - val_accuracy: 0.7360\n",
            "Epoch 2/20\n",
            "67/67 [==============================] - 32s 475ms/step - loss: 0.3083 - accuracy: 0.8835 - val_loss: 0.3967 - val_accuracy: 0.8268\n",
            "Epoch 3/20\n",
            "67/67 [==============================] - 32s 474ms/step - loss: 0.3138 - accuracy: 0.8859 - val_loss: 0.2054 - val_accuracy: 0.9036\n",
            "Epoch 4/20\n",
            "67/67 [==============================] - 32s 475ms/step - loss: 0.3158 - accuracy: 0.8788 - val_loss: 0.2350 - val_accuracy: 0.8911\n",
            "Epoch 5/20\n",
            "67/67 [==============================] - 32s 477ms/step - loss: 0.3131 - accuracy: 0.8733 - val_loss: 0.1962 - val_accuracy: 0.9120\n",
            "Epoch 6/20\n",
            "67/67 [==============================] - 32s 476ms/step - loss: 0.3040 - accuracy: 0.8774 - val_loss: 0.1801 - val_accuracy: 0.9218\n",
            "Epoch 7/20\n",
            "67/67 [==============================] - 32s 478ms/step - loss: 0.3067 - accuracy: 0.8957 - val_loss: 0.2216 - val_accuracy: 0.9092\n",
            "Epoch 8/20\n",
            "67/67 [==============================] - 32s 480ms/step - loss: 0.2584 - accuracy: 0.8934 - val_loss: 0.1856 - val_accuracy: 0.9246\n",
            "Epoch 9/20\n",
            "67/67 [==============================] - 32s 481ms/step - loss: 0.2722 - accuracy: 0.8941 - val_loss: 0.2264 - val_accuracy: 0.9064\n",
            "Epoch 10/20\n",
            "67/67 [==============================] - 32s 477ms/step - loss: 0.2997 - accuracy: 0.8822 - val_loss: 37.7493 - val_accuracy: 0.1830\n",
            "Epoch 11/20\n",
            "67/67 [==============================] - 32s 478ms/step - loss: 0.3182 - accuracy: 0.8623 - val_loss: 9.0571 - val_accuracy: 0.2682\n",
            "Epoch 12/20\n",
            "67/67 [==============================] - 32s 476ms/step - loss: 0.3013 - accuracy: 0.8842 - val_loss: 1.1175 - val_accuracy: 0.6746\n",
            "Epoch 13/20\n",
            "67/67 [==============================] - 32s 476ms/step - loss: 0.3312 - accuracy: 0.8725 - val_loss: 0.2131 - val_accuracy: 0.9190\n",
            "Epoch 14/20\n",
            "67/67 [==============================] - 32s 478ms/step - loss: 0.2809 - accuracy: 0.8770 - val_loss: 0.2125 - val_accuracy: 0.9134\n",
            "Epoch 15/20\n",
            "67/67 [==============================] - 32s 476ms/step - loss: 0.2649 - accuracy: 0.8900 - val_loss: 0.1662 - val_accuracy: 0.9232\n",
            "Epoch 16/20\n",
            "67/67 [==============================] - 32s 479ms/step - loss: 0.2974 - accuracy: 0.8854 - val_loss: 0.1846 - val_accuracy: 0.9176\n",
            "Epoch 17/20\n",
            "67/67 [==============================] - 32s 475ms/step - loss: 0.2486 - accuracy: 0.9057 - val_loss: 1.3872 - val_accuracy: 0.6089\n",
            "Epoch 18/20\n",
            "67/67 [==============================] - 32s 473ms/step - loss: 0.3082 - accuracy: 0.8802 - val_loss: 0.2735 - val_accuracy: 0.8925\n",
            "Epoch 19/20\n",
            "67/67 [==============================] - 32s 475ms/step - loss: 0.2645 - accuracy: 0.8897 - val_loss: 0.1957 - val_accuracy: 0.9190\n",
            "Epoch 20/20\n",
            "67/67 [==============================] - 32s 475ms/step - loss: 0.2639 - accuracy: 0.9006 - val_loss: 0.1762 - val_accuracy: 0.9288\n",
            "loss\n",
            "accuracy\n",
            "val_loss\n",
            "val_accuracy\n",
            "[INFO] evaluating after fine-tuning...\n",
            "                 precision    recall  f1-score   support\n",
            "\n",
            "   brain_normal       0.79      0.79      0.79        19\n",
            "   brain_tumour       0.88      0.97      0.92        31\n",
            "  breast_cancer       0.66      0.88      0.75        56\n",
            "  breast_normal       0.96      0.87      0.92       199\n",
            "cervical_cancer       1.00      1.00      1.00        57\n",
            "cervical_normal       1.00      1.00      1.00        52\n",
            "         ignore       0.99      0.99      0.99        87\n",
            "    lung_cancer       1.00      0.94      0.97        87\n",
            "    lung_normal       0.94      1.00      0.97        83\n",
            " thyroid_cancer       0.95      0.73      0.83        26\n",
            " thyroid_normal       0.82      0.95      0.88        19\n",
            "\n",
            "       accuracy                           0.93       716\n",
            "      macro avg       0.91      0.92      0.91       716\n",
            "   weighted avg       0.94      0.93      0.93       716\n",
            "\n",
            "[INFO] serializing model...\n",
            "INFO:tensorflow:Assets written to: output.model/assets\n"
          ],
          "name": "stdout"
        },
        {
          "output_type": "display_data",
          "data": {
            "image/png": "[encoded data removed]",
            "text/plain": [
              "<Figure size 432x288 with 1 Axes>"
            ]
          },
          "metadata": {
            "tags": []
          }
        }
      ]
    },
    {
      "cell_type": "markdown",
      "metadata": {
        "id": "0KO8bVmryBO6"
      },
      "source": [
        ""
      ]
    },
    {
      "cell_type": "markdown",
      "metadata": {
        "id": "faAjNBudyAqx"
      },
      "source": [
        ""
      ]
    },
    {
      "cell_type": "code",
      "metadata": {
        "colab": {
          "base_uri": "https://localhost:8080/"
        },
        "id": "UOTpQIwrjNBt",
        "outputId": "db5b3144-5cc4-4322-ba18-733e140dee85"
      },
      "source": [
        "!pip install flask-ngrok\n",
        "!pip install flask_cors\n"
      ],
      "execution_count": null,
      "outputs": [
        {
          "output_type": "stream",
          "text": [
            "Collecting flask-ngrok\n",
            "  Downloading https://files.pythonhosted.org/packages/af/6c/f54cb686ad1129e27d125d182f90f52b32f284e6c8df58c1bae54fa1adbc/flask_ngrok-0.0.25-py3-none-any.whl\n",
            "Requirement already satisfied: requests in /usr/local/lib/python3.7/dist-packages (from flask-ngrok) (2.23.0)\n",
            "Requirement already satisfied: Flask>=0.8 in /usr/local/lib/python3.7/dist-packages (from flask-ngrok) (1.1.2)\n",
            "Requirement already satisfied: certifi>=2017.4.17 in /usr/local/lib/python3.7/dist-packages (from requests->flask-ngrok) (2020.12.5)\n",
            "Requirement already satisfied: idna<3,>=2.5 in /usr/local/lib/python3.7/dist-packages (from requests->flask-ngrok) (2.10)\n",
            "Requirement already satisfied: chardet<4,>=3.0.2 in /usr/local/lib/python3.7/dist-packages (from requests->flask-ngrok) (3.0.4)\n",
            "Requirement already satisfied: urllib3!=1.25.0,!=1.25.1,<1.26,>=1.21.1 in /usr/local/lib/python3.7/dist-packages (from requests->flask-ngrok) (1.24.3)\n",
            "Requirement already satisfied: Jinja2>=2.10.1 in /usr/local/lib/python3.7/dist-packages (from Flask>=0.8->flask-ngrok) (2.11.3)\n",
            "Requirement already satisfied: click>=5.1 in /usr/local/lib/python3.7/dist-packages (from Flask>=0.8->flask-ngrok) (7.1.2)\n",
            "Requirement already satisfied: itsdangerous>=0.24 in /usr/local/lib/python3.7/dist-packages (from Flask>=0.8->flask-ngrok) (1.1.0)\n",
            "Requirement already satisfied: Werkzeug>=0.15 in /usr/local/lib/python3.7/dist-packages (from Flask>=0.8->flask-ngrok) (1.0.1)\n",
            "Requirement already satisfied: MarkupSafe>=0.23 in /usr/local/lib/python3.7/dist-packages (from Jinja2>=2.10.1->Flask>=0.8->flask-ngrok) (1.1.1)\n",
            "Installing collected packages: flask-ngrok\n",
            "Successfully installed flask-ngrok-0.0.25\n",
            "Collecting flask_cors\n",
            "  Downloading https://files.pythonhosted.org/packages/db/84/901e700de86604b1c4ef4b57110d4e947c218b9997adf5d38fa7da493bce/Flask_Cors-3.0.10-py2.py3-none-any.whl\n",
            "Requirement already satisfied: Flask>=0.9 in /usr/local/lib/python3.7/dist-packages (from flask_cors) (1.1.2)\n",
            "Requirement already satisfied: Six in /usr/local/lib/python3.7/dist-packages (from flask_cors) (1.15.0)\n",
            "Requirement already satisfied: Werkzeug>=0.15 in /usr/local/lib/python3.7/dist-packages (from Flask>=0.9->flask_cors) (1.0.1)\n",
            "Requirement already satisfied: Jinja2>=2.10.1 in /usr/local/lib/python3.7/dist-packages (from Flask>=0.9->flask_cors) (2.11.3)\n",
            "Requirement already satisfied: click>=5.1 in /usr/local/lib/python3.7/dist-packages (from Flask>=0.9->flask_cors) (7.1.2)\n",
            "Requirement already satisfied: itsdangerous>=0.24 in /usr/local/lib/python3.7/dist-packages (from Flask>=0.9->flask_cors) (1.1.0)\n",
            "Requirement already satisfied: MarkupSafe>=0.23 in /usr/local/lib/python3.7/dist-packages (from Jinja2>=2.10.1->Flask>=0.9->flask_cors) (1.1.1)\n",
            "Installing collected packages: flask-cors\n",
            "Successfully installed flask-cors-3.0.10\n"
          ],
          "name": "stdout"
        }
      ]
    },
    {
      "cell_type": "code",
      "metadata": {
        "colab": {
          "base_uri": "https://localhost:8080/"
        },
        "id": "gg6ZhzemUAyj",
        "outputId": "7c7c4521-d829-4243-9739-9f318fc0eb68"
      },
      "source": [
        "from flask_ngrok import run_with_ngrok\n",
        "from flask import Flask\n",
        "from flask import Flask, app,request\n",
        "from base64 import b64decode\n",
        "import json\n",
        "import os\n",
        "import cv2\n",
        "from imutils import paths\n",
        "import base64\n",
        "import numpy as np\n",
        "import numpy\n",
        "import sys\n",
        "from flask import jsonify\n",
        "from sklearn.preprocessing import LabelEncoder\n",
        "from sklearn.svm import SVC\n",
        "import requests\n",
        "import pickle\n",
        "from imutils.video import VideoStream\n",
        "from imutils import paths\n",
        "from threading import Thread\n",
        "from tensorflow.keras.preprocessing.image import img_to_array\n",
        "from tensorflow.keras.models import load_model\n",
        "from datetime import datetime\n",
        "from datetime import date\n",
        "import numpy as np\n",
        "import argparse\n",
        "import imutils\n",
        "import pickle\n",
        "import time\n",
        "import cv2\n",
        "import os\n",
        "from base64 import b64decode\n",
        "import base64\n",
        "import io\n",
        "from flask_cors import CORS, cross_origin\n",
        "\n",
        "\n",
        "app = Flask(__name__)\n",
        "cors = CORS(app)\n",
        "run_with_ngrok(app)   #starts ngrok when the app is run\n",
        "@app.route('/penta', methods=['GET','POST'])\n",
        "# @cross_origin()\n",
        "def login():\n",
        "    # if request.method == 'POST':\n",
        "    #   # print(\"called\")\n",
        "    result = input(request.json['uri'])\n",
        "    print(\"sfvnvjknb\")\n",
        "    return result\n",
        "    # print(request.json)\n",
        "    \n",
        "\n",
        "\n",
        "\n",
        "def input(uri):\n",
        "    print(\"[INFO] loading model...\")\n",
        "    model = load_model(str(\"drive/MyDrive/20e.model\"))\n",
        "    imagePaths = list(paths.list_images(\"drive/MyDrive/penta_dataset/\"))\n",
        "    classNames = [pt.split(os.path.sep)[-2] for pt in imagePaths]\n",
        "    classNames = [str(x) for x in np.unique(classNames)]\n",
        "    uri = uri\n",
        "    header, encoded = uri.split(\",\", 1)\n",
        "    data = b64decode(encoded)\n",
        "    f = open(\"uriimage.png\", \"wb\")\n",
        "    f.write(data)\n",
        "    frame = cv2.imread(\"uriimage.png\")\n",
        "    timestamp = datetime.now()\n",
        "    frame = imutils.resize(frame, width=400)\n",
        "    frame = cv2.flip(frame, 1)\n",
        "    roi = cv2.resize(frame, (224, 224))\n",
        "    roi = roi.astype(\"float\") / 255.0\n",
        "    roi = img_to_array(roi)\n",
        "    roi = np.expand_dims(roi, axis=0)\n",
        "    proba = model.predict(roi)[0]\n",
        "    label = classNames[proba.argmax()]\n",
        "    print(label)\n",
        "    return ({\"data\":label})\n",
        "    # if the `q` key was pressed, break from the loop\n",
        "\n",
        "if __name__ == '__main__':\n",
        "    app.run()\n"
      ],
      "execution_count": null,
      "outputs": [
        {
          "output_type": "stream",
          "text": [
            " * Serving Flask app \"__main__\" (lazy loading)\n",
            " * Environment: production\n",
            "\u001b[31m   WARNING: This is a development server. Do not use it in a production deployment.\u001b[0m\n",
            "\u001b[2m   Use a production WSGI server instead.\u001b[0m\n",
            " * Debug mode: off\n"
          ],
          "name": "stdout"
        },
        {
          "output_type": "stream",
          "text": [
            " * Running on http://127.0.0.1:5000/ (Press CTRL+C to quit)\n"
          ],
          "name": "stderr"
        },
        {
          "output_type": "stream",
          "text": [
            " * Running on http://a877f0b91636.ngrok.io\n",
            " * Traffic stats available on http://127.0.0.1:4040\n"
          ],
          "name": "stdout"
        },
        {
          "output_type": "stream",
          "text": [
            "127.0.0.1 - - [18/Mar/2021 15:55:09] \"\u001b[37mOPTIONS /penta HTTP/1.1\u001b[0m\" 200 -\n"
          ],
          "name": "stderr"
        },
        {
          "output_type": "stream",
          "text": [
            "[INFO] loading model...\n",
            "WARNING:tensorflow:5 out of the last 5 calls to <function Model.make_predict_function.<locals>.predict_function at 0x7fc663c03320> triggered tf.function retracing. Tracing is expensive and the excessive number of tracings could be due to (1) creating @tf.function repeatedly in a loop, (2) passing tensors with different shapes, (3) passing Python objects instead of tensors. For (1), please define your @tf.function outside of the loop. For (2), @tf.function has experimental_relax_shapes=True option that relaxes argument shapes that can avoid unnecessary retracing. For (3), please refer to https://www.tensorflow.org/guide/function#controlling_retracing and https://www.tensorflow.org/api_docs/python/tf/function for  more details.\n"
          ],
          "name": "stdout"
        },
        {
          "output_type": "stream",
          "text": [
            "127.0.0.1 - - [18/Mar/2021 15:55:13] \"\u001b[37mPOST /penta HTTP/1.1\u001b[0m\" 200 -\n"
          ],
          "name": "stderr"
        },
        {
          "output_type": "stream",
          "text": [
            "brain_tumour\n",
            "sfvnvjknb\n"
          ],
          "name": "stdout"
        },
        {
          "output_type": "stream",
          "text": [
            "127.0.0.1 - - [18/Mar/2021 15:55:21] \"\u001b[37mOPTIONS /penta HTTP/1.1\u001b[0m\" 200 -\n"
          ],
          "name": "stderr"
        },
        {
          "output_type": "stream",
          "text": [
            "[INFO] loading model...\n",
            "WARNING:tensorflow:6 out of the last 6 calls to <function Model.make_predict_function.<locals>.predict_function at 0x7fc6b5356ef0> triggered tf.function retracing. Tracing is expensive and the excessive number of tracings could be due to (1) creating @tf.function repeatedly in a loop, (2) passing tensors with different shapes, (3) passing Python objects instead of tensors. For (1), please define your @tf.function outside of the loop. For (2), @tf.function has experimental_relax_shapes=True option that relaxes argument shapes that can avoid unnecessary retracing. For (3), please refer to https://www.tensorflow.org/guide/function#controlling_retracing and https://www.tensorflow.org/api_docs/python/tf/function for  more details.\n"
          ],
          "name": "stdout"
        },
        {
          "output_type": "stream",
          "text": [
            "127.0.0.1 - - [18/Mar/2021 15:55:24] \"\u001b[37mPOST /penta HTTP/1.1\u001b[0m\" 200 -\n"
          ],
          "name": "stderr"
        },
        {
          "output_type": "stream",
          "text": [
            "brain_tumour\n",
            "sfvnvjknb\n"
          ],
          "name": "stdout"
        },
        {
          "output_type": "stream",
          "text": [
            "127.0.0.1 - - [18/Mar/2021 15:55:41] \"\u001b[37mOPTIONS /penta HTTP/1.1\u001b[0m\" 200 -\n"
          ],
          "name": "stderr"
        },
        {
          "output_type": "stream",
          "text": [
            "[INFO] loading model...\n",
            "WARNING:tensorflow:7 out of the last 7 calls to <function Model.make_predict_function.<locals>.predict_function at 0x7fc66815b8c0> triggered tf.function retracing. Tracing is expensive and the excessive number of tracings could be due to (1) creating @tf.function repeatedly in a loop, (2) passing tensors with different shapes, (3) passing Python objects instead of tensors. For (1), please define your @tf.function outside of the loop. For (2), @tf.function has experimental_relax_shapes=True option that relaxes argument shapes that can avoid unnecessary retracing. For (3), please refer to https://www.tensorflow.org/guide/function#controlling_retracing and https://www.tensorflow.org/api_docs/python/tf/function for  more details.\n"
          ],
          "name": "stdout"
        },
        {
          "output_type": "stream",
          "text": [
            "127.0.0.1 - - [18/Mar/2021 15:55:43] \"\u001b[37mPOST /penta HTTP/1.1\u001b[0m\" 200 -\n"
          ],
          "name": "stderr"
        },
        {
          "output_type": "stream",
          "text": [
            "brain_tumour\n",
            "sfvnvjknb\n"
          ],
          "name": "stdout"
        },
        {
          "output_type": "stream",
          "text": [
            "127.0.0.1 - - [18/Mar/2021 15:55:53] \"\u001b[37mOPTIONS /penta HTTP/1.1\u001b[0m\" 200 -\n"
          ],
          "name": "stderr"
        },
        {
          "output_type": "stream",
          "text": [
            "[INFO] loading model...\n",
            "WARNING:tensorflow:8 out of the last 8 calls to <function Model.make_predict_function.<locals>.predict_function at 0x7fc668153680> triggered tf.function retracing. Tracing is expensive and the excessive number of tracings could be due to (1) creating @tf.function repeatedly in a loop, (2) passing tensors with different shapes, (3) passing Python objects instead of tensors. For (1), please define your @tf.function outside of the loop. For (2), @tf.function has experimental_relax_shapes=True option that relaxes argument shapes that can avoid unnecessary retracing. For (3), please refer to https://www.tensorflow.org/guide/function#controlling_retracing and https://www.tensorflow.org/api_docs/python/tf/function for  more details.\n"
          ],
          "name": "stdout"
        },
        {
          "output_type": "stream",
          "text": [
            "127.0.0.1 - - [18/Mar/2021 15:55:56] \"\u001b[37mPOST /penta HTTP/1.1\u001b[0m\" 200 -\n"
          ],
          "name": "stderr"
        },
        {
          "output_type": "stream",
          "text": [
            "brain_tumour\n",
            "sfvnvjknb\n"
          ],
          "name": "stdout"
        },
        {
          "output_type": "stream",
          "text": [
            "127.0.0.1 - - [18/Mar/2021 15:56:05] \"\u001b[37mOPTIONS /penta HTTP/1.1\u001b[0m\" 200 -\n"
          ],
          "name": "stderr"
        },
        {
          "output_type": "stream",
          "text": [
            "[INFO] loading model...\n",
            "WARNING:tensorflow:9 out of the last 9 calls to <function Model.make_predict_function.<locals>.predict_function at 0x7fc6636ec9e0> triggered tf.function retracing. Tracing is expensive and the excessive number of tracings could be due to (1) creating @tf.function repeatedly in a loop, (2) passing tensors with different shapes, (3) passing Python objects instead of tensors. For (1), please define your @tf.function outside of the loop. For (2), @tf.function has experimental_relax_shapes=True option that relaxes argument shapes that can avoid unnecessary retracing. For (3), please refer to https://www.tensorflow.org/guide/function#controlling_retracing and https://www.tensorflow.org/api_docs/python/tf/function for  more details.\n"
          ],
          "name": "stdout"
        },
        {
          "output_type": "stream",
          "text": [
            "127.0.0.1 - - [18/Mar/2021 15:56:08] \"\u001b[37mPOST /penta HTTP/1.1\u001b[0m\" 200 -\n"
          ],
          "name": "stderr"
        },
        {
          "output_type": "stream",
          "text": [
            "brain_tumour\n",
            "sfvnvjknb\n"
          ],
          "name": "stdout"
        },
        {
          "output_type": "stream",
          "text": [
            "127.0.0.1 - - [18/Mar/2021 15:56:22] \"\u001b[37mOPTIONS /penta HTTP/1.1\u001b[0m\" 200 -\n"
          ],
          "name": "stderr"
        },
        {
          "output_type": "stream",
          "text": [
            "[INFO] loading model...\n",
            "WARNING:tensorflow:10 out of the last 10 calls to <function Model.make_predict_function.<locals>.predict_function at 0x7fc6a01bc8c0> triggered tf.function retracing. Tracing is expensive and the excessive number of tracings could be due to (1) creating @tf.function repeatedly in a loop, (2) passing tensors with different shapes, (3) passing Python objects instead of tensors. For (1), please define your @tf.function outside of the loop. For (2), @tf.function has experimental_relax_shapes=True option that relaxes argument shapes that can avoid unnecessary retracing. For (3), please refer to https://www.tensorflow.org/guide/function#controlling_retracing and https://www.tensorflow.org/api_docs/python/tf/function for  more details.\n"
          ],
          "name": "stdout"
        },
        {
          "output_type": "stream",
          "text": [
            "127.0.0.1 - - [18/Mar/2021 15:56:24] \"\u001b[37mPOST /penta HTTP/1.1\u001b[0m\" 200 -\n"
          ],
          "name": "stderr"
        },
        {
          "output_type": "stream",
          "text": [
            "breast_normal\n",
            "sfvnvjknb\n"
          ],
          "name": "stdout"
        },
        {
          "output_type": "stream",
          "text": [
            "127.0.0.1 - - [18/Mar/2021 15:56:39] \"\u001b[37mOPTIONS /penta HTTP/1.1\u001b[0m\" 200 -\n"
          ],
          "name": "stderr"
        },
        {
          "output_type": "stream",
          "text": [
            "[INFO] loading model...\n",
            "WARNING:tensorflow:11 out of the last 11 calls to <function Model.make_predict_function.<locals>.predict_function at 0x7fc663a8f830> triggered tf.function retracing. Tracing is expensive and the excessive number of tracings could be due to (1) creating @tf.function repeatedly in a loop, (2) passing tensors with different shapes, (3) passing Python objects instead of tensors. For (1), please define your @tf.function outside of the loop. For (2), @tf.function has experimental_relax_shapes=True option that relaxes argument shapes that can avoid unnecessary retracing. For (3), please refer to https://www.tensorflow.org/guide/function#controlling_retracing and https://www.tensorflow.org/api_docs/python/tf/function for  more details.\n"
          ],
          "name": "stdout"
        },
        {
          "output_type": "stream",
          "text": [
            "127.0.0.1 - - [18/Mar/2021 15:56:42] \"\u001b[37mPOST /penta HTTP/1.1\u001b[0m\" 200 -\n"
          ],
          "name": "stderr"
        },
        {
          "output_type": "stream",
          "text": [
            "breast_normal\n",
            "sfvnvjknb\n"
          ],
          "name": "stdout"
        },
        {
          "output_type": "stream",
          "text": [
            "127.0.0.1 - - [18/Mar/2021 15:57:50] \"\u001b[37mOPTIONS /penta HTTP/1.1\u001b[0m\" 200 -\n"
          ],
          "name": "stderr"
        },
        {
          "output_type": "stream",
          "text": [
            "[INFO] loading model...\n",
            "WARNING:tensorflow:11 out of the last 11 calls to <function Model.make_predict_function.<locals>.predict_function at 0x7fc6a01bcf80> triggered tf.function retracing. Tracing is expensive and the excessive number of tracings could be due to (1) creating @tf.function repeatedly in a loop, (2) passing tensors with different shapes, (3) passing Python objects instead of tensors. For (1), please define your @tf.function outside of the loop. For (2), @tf.function has experimental_relax_shapes=True option that relaxes argument shapes that can avoid unnecessary retracing. For (3), please refer to https://www.tensorflow.org/guide/function#controlling_retracing and https://www.tensorflow.org/api_docs/python/tf/function for  more details.\n"
          ],
          "name": "stdout"
        },
        {
          "output_type": "stream",
          "text": [
            "127.0.0.1 - - [18/Mar/2021 15:57:52] \"\u001b[37mPOST /penta HTTP/1.1\u001b[0m\" 200 -\n"
          ],
          "name": "stderr"
        },
        {
          "output_type": "stream",
          "text": [
            "breast_normal\n",
            "sfvnvjknb\n"
          ],
          "name": "stdout"
        },
        {
          "output_type": "stream",
          "text": [
            "127.0.0.1 - - [18/Mar/2021 15:58:32] \"\u001b[37mOPTIONS /penta HTTP/1.1\u001b[0m\" 200 -\n"
          ],
          "name": "stderr"
        },
        {
          "output_type": "stream",
          "text": [
            "[INFO] loading model...\n",
            "WARNING:tensorflow:11 out of the last 11 calls to <function Model.make_predict_function.<locals>.predict_function at 0x7fc663a98560> triggered tf.function retracing. Tracing is expensive and the excessive number of tracings could be due to (1) creating @tf.function repeatedly in a loop, (2) passing tensors with different shapes, (3) passing Python objects instead of tensors. For (1), please define your @tf.function outside of the loop. For (2), @tf.function has experimental_relax_shapes=True option that relaxes argument shapes that can avoid unnecessary retracing. For (3), please refer to https://www.tensorflow.org/guide/function#controlling_retracing and https://www.tensorflow.org/api_docs/python/tf/function for  more details.\n"
          ],
          "name": "stdout"
        },
        {
          "output_type": "stream",
          "text": [
            "127.0.0.1 - - [18/Mar/2021 15:58:34] \"\u001b[37mPOST /penta HTTP/1.1\u001b[0m\" 200 -\n"
          ],
          "name": "stderr"
        },
        {
          "output_type": "stream",
          "text": [
            "breast_cancer\n",
            "sfvnvjknb\n"
          ],
          "name": "stdout"
        },
        {
          "output_type": "stream",
          "text": [
            "127.0.0.1 - - [18/Mar/2021 15:59:32] \"\u001b[37mOPTIONS /penta HTTP/1.1\u001b[0m\" 200 -\n"
          ],
          "name": "stderr"
        },
        {
          "output_type": "stream",
          "text": [
            "[INFO] loading model...\n",
            "WARNING:tensorflow:11 out of the last 11 calls to <function Model.make_predict_function.<locals>.predict_function at 0x7fc65663e950> triggered tf.function retracing. Tracing is expensive and the excessive number of tracings could be due to (1) creating @tf.function repeatedly in a loop, (2) passing tensors with different shapes, (3) passing Python objects instead of tensors. For (1), please define your @tf.function outside of the loop. For (2), @tf.function has experimental_relax_shapes=True option that relaxes argument shapes that can avoid unnecessary retracing. For (3), please refer to https://www.tensorflow.org/guide/function#controlling_retracing and https://www.tensorflow.org/api_docs/python/tf/function for  more details.\n"
          ],
          "name": "stdout"
        },
        {
          "output_type": "stream",
          "text": [
            "127.0.0.1 - - [18/Mar/2021 15:59:35] \"\u001b[37mPOST /penta HTTP/1.1\u001b[0m\" 200 -\n"
          ],
          "name": "stderr"
        },
        {
          "output_type": "stream",
          "text": [
            "breast_cancer\n",
            "sfvnvjknb\n"
          ],
          "name": "stdout"
        },
        {
          "output_type": "stream",
          "text": [
            "127.0.0.1 - - [18/Mar/2021 16:00:34] \"\u001b[37mOPTIONS /penta HTTP/1.1\u001b[0m\" 200 -\n"
          ],
          "name": "stderr"
        },
        {
          "output_type": "stream",
          "text": [
            "[INFO] loading model...\n",
            "WARNING:tensorflow:11 out of the last 11 calls to <function Model.make_predict_function.<locals>.predict_function at 0x7fc6a0504680> triggered tf.function retracing. Tracing is expensive and the excessive number of tracings could be due to (1) creating @tf.function repeatedly in a loop, (2) passing tensors with different shapes, (3) passing Python objects instead of tensors. For (1), please define your @tf.function outside of the loop. For (2), @tf.function has experimental_relax_shapes=True option that relaxes argument shapes that can avoid unnecessary retracing. For (3), please refer to https://www.tensorflow.org/guide/function#controlling_retracing and https://www.tensorflow.org/api_docs/python/tf/function for  more details.\n"
          ],
          "name": "stdout"
        },
        {
          "output_type": "stream",
          "text": [
            "127.0.0.1 - - [18/Mar/2021 16:00:36] \"\u001b[37mPOST /penta HTTP/1.1\u001b[0m\" 200 -\n"
          ],
          "name": "stderr"
        },
        {
          "output_type": "stream",
          "text": [
            "breast_cancer\n",
            "sfvnvjknb\n"
          ],
          "name": "stdout"
        },
        {
          "output_type": "stream",
          "text": [
            "127.0.0.1 - - [18/Mar/2021 16:01:30] \"\u001b[37mOPTIONS /penta HTTP/1.1\u001b[0m\" 200 -\n"
          ],
          "name": "stderr"
        },
        {
          "output_type": "stream",
          "text": [
            "[INFO] loading model...\n",
            "WARNING:tensorflow:11 out of the last 11 calls to <function Model.make_predict_function.<locals>.predict_function at 0x7fc6a02683b0> triggered tf.function retracing. Tracing is expensive and the excessive number of tracings could be due to (1) creating @tf.function repeatedly in a loop, (2) passing tensors with different shapes, (3) passing Python objects instead of tensors. For (1), please define your @tf.function outside of the loop. For (2), @tf.function has experimental_relax_shapes=True option that relaxes argument shapes that can avoid unnecessary retracing. For (3), please refer to https://www.tensorflow.org/guide/function#controlling_retracing and https://www.tensorflow.org/api_docs/python/tf/function for  more details.\n"
          ],
          "name": "stdout"
        },
        {
          "output_type": "stream",
          "text": [
            "127.0.0.1 - - [18/Mar/2021 16:01:33] \"\u001b[37mPOST /penta HTTP/1.1\u001b[0m\" 200 -\n"
          ],
          "name": "stderr"
        },
        {
          "output_type": "stream",
          "text": [
            "breast_cancer\n",
            "sfvnvjknb\n"
          ],
          "name": "stdout"
        },
        {
          "output_type": "stream",
          "text": [
            "127.0.0.1 - - [18/Mar/2021 16:01:43] \"\u001b[37mOPTIONS /penta HTTP/1.1\u001b[0m\" 200 -\n"
          ],
          "name": "stderr"
        },
        {
          "output_type": "stream",
          "text": [
            "[INFO] loading model...\n",
            "WARNING:tensorflow:11 out of the last 11 calls to <function Model.make_predict_function.<locals>.predict_function at 0x7fc6681503b0> triggered tf.function retracing. Tracing is expensive and the excessive number of tracings could be due to (1) creating @tf.function repeatedly in a loop, (2) passing tensors with different shapes, (3) passing Python objects instead of tensors. For (1), please define your @tf.function outside of the loop. For (2), @tf.function has experimental_relax_shapes=True option that relaxes argument shapes that can avoid unnecessary retracing. For (3), please refer to https://www.tensorflow.org/guide/function#controlling_retracing and https://www.tensorflow.org/api_docs/python/tf/function for  more details.\n"
          ],
          "name": "stdout"
        },
        {
          "output_type": "stream",
          "text": [
            "127.0.0.1 - - [18/Mar/2021 16:01:46] \"\u001b[37mPOST /penta HTTP/1.1\u001b[0m\" 200 -\n"
          ],
          "name": "stderr"
        },
        {
          "output_type": "stream",
          "text": [
            "breast_normal\n",
            "sfvnvjknb\n"
          ],
          "name": "stdout"
        },
        {
          "output_type": "stream",
          "text": [
            "127.0.0.1 - - [18/Mar/2021 16:02:39] \"\u001b[37mOPTIONS /penta HTTP/1.1\u001b[0m\" 200 -\n"
          ],
          "name": "stderr"
        },
        {
          "output_type": "stream",
          "text": [
            "[INFO] loading model...\n",
            "WARNING:tensorflow:11 out of the last 11 calls to <function Model.make_predict_function.<locals>.predict_function at 0x7fc6a008ec20> triggered tf.function retracing. Tracing is expensive and the excessive number of tracings could be due to (1) creating @tf.function repeatedly in a loop, (2) passing tensors with different shapes, (3) passing Python objects instead of tensors. For (1), please define your @tf.function outside of the loop. For (2), @tf.function has experimental_relax_shapes=True option that relaxes argument shapes that can avoid unnecessary retracing. For (3), please refer to https://www.tensorflow.org/guide/function#controlling_retracing and https://www.tensorflow.org/api_docs/python/tf/function for  more details.\n"
          ],
          "name": "stdout"
        },
        {
          "output_type": "stream",
          "text": [
            "127.0.0.1 - - [18/Mar/2021 16:02:42] \"\u001b[37mPOST /penta HTTP/1.1\u001b[0m\" 200 -\n"
          ],
          "name": "stderr"
        },
        {
          "output_type": "stream",
          "text": [
            "breast_normal\n",
            "sfvnvjknb\n"
          ],
          "name": "stdout"
        },
        {
          "output_type": "stream",
          "text": [
            "127.0.0.1 - - [18/Mar/2021 16:03:31] \"\u001b[37mOPTIONS /penta HTTP/1.1\u001b[0m\" 200 -\n"
          ],
          "name": "stderr"
        },
        {
          "output_type": "stream",
          "text": [
            "[INFO] loading model...\n",
            "WARNING:tensorflow:11 out of the last 11 calls to <function Model.make_predict_function.<locals>.predict_function at 0x7fc663add200> triggered tf.function retracing. Tracing is expensive and the excessive number of tracings could be due to (1) creating @tf.function repeatedly in a loop, (2) passing tensors with different shapes, (3) passing Python objects instead of tensors. For (1), please define your @tf.function outside of the loop. For (2), @tf.function has experimental_relax_shapes=True option that relaxes argument shapes that can avoid unnecessary retracing. For (3), please refer to https://www.tensorflow.org/guide/function#controlling_retracing and https://www.tensorflow.org/api_docs/python/tf/function for  more details.\n"
          ],
          "name": "stdout"
        },
        {
          "output_type": "stream",
          "text": [
            "127.0.0.1 - - [18/Mar/2021 16:03:33] \"\u001b[37mPOST /penta HTTP/1.1\u001b[0m\" 200 -\n"
          ],
          "name": "stderr"
        },
        {
          "output_type": "stream",
          "text": [
            "breast_normal\n",
            "sfvnvjknb\n"
          ],
          "name": "stdout"
        },
        {
          "output_type": "stream",
          "text": [
            "127.0.0.1 - - [18/Mar/2021 16:04:21] \"\u001b[37mOPTIONS /penta HTTP/1.1\u001b[0m\" 200 -\n"
          ],
          "name": "stderr"
        },
        {
          "output_type": "stream",
          "text": [
            "[INFO] loading model...\n",
            "WARNING:tensorflow:11 out of the last 11 calls to <function Model.make_predict_function.<locals>.predict_function at 0x7fc6a01a0c20> triggered tf.function retracing. Tracing is expensive and the excessive number of tracings could be due to (1) creating @tf.function repeatedly in a loop, (2) passing tensors with different shapes, (3) passing Python objects instead of tensors. For (1), please define your @tf.function outside of the loop. For (2), @tf.function has experimental_relax_shapes=True option that relaxes argument shapes that can avoid unnecessary retracing. For (3), please refer to https://www.tensorflow.org/guide/function#controlling_retracing and https://www.tensorflow.org/api_docs/python/tf/function for  more details.\n"
          ],
          "name": "stdout"
        },
        {
          "output_type": "stream",
          "text": [
            "127.0.0.1 - - [18/Mar/2021 16:04:24] \"\u001b[37mPOST /penta HTTP/1.1\u001b[0m\" 200 -\n"
          ],
          "name": "stderr"
        },
        {
          "output_type": "stream",
          "text": [
            "breast_cancer\n",
            "sfvnvjknb\n"
          ],
          "name": "stdout"
        },
        {
          "output_type": "stream",
          "text": [
            "127.0.0.1 - - [18/Mar/2021 16:05:14] \"\u001b[37mOPTIONS /penta HTTP/1.1\u001b[0m\" 200 -\n"
          ],
          "name": "stderr"
        },
        {
          "output_type": "stream",
          "text": [
            "[INFO] loading model...\n",
            "WARNING:tensorflow:11 out of the last 11 calls to <function Model.make_predict_function.<locals>.predict_function at 0x7fc6681afb00> triggered tf.function retracing. Tracing is expensive and the excessive number of tracings could be due to (1) creating @tf.function repeatedly in a loop, (2) passing tensors with different shapes, (3) passing Python objects instead of tensors. For (1), please define your @tf.function outside of the loop. For (2), @tf.function has experimental_relax_shapes=True option that relaxes argument shapes that can avoid unnecessary retracing. For (3), please refer to https://www.tensorflow.org/guide/function#controlling_retracing and https://www.tensorflow.org/api_docs/python/tf/function for  more details.\n"
          ],
          "name": "stdout"
        },
        {
          "output_type": "stream",
          "text": [
            "127.0.0.1 - - [18/Mar/2021 16:05:17] \"\u001b[37mPOST /penta HTTP/1.1\u001b[0m\" 200 -\n"
          ],
          "name": "stderr"
        },
        {
          "output_type": "stream",
          "text": [
            "breast_normal\n",
            "sfvnvjknb\n"
          ],
          "name": "stdout"
        },
        {
          "output_type": "stream",
          "text": [
            "127.0.0.1 - - [18/Mar/2021 16:06:05] \"\u001b[37mOPTIONS /penta HTTP/1.1\u001b[0m\" 200 -\n"
          ],
          "name": "stderr"
        },
        {
          "output_type": "stream",
          "text": [
            "[INFO] loading model...\n",
            "WARNING:tensorflow:11 out of the last 11 calls to <function Model.make_predict_function.<locals>.predict_function at 0x7fc6635e3560> triggered tf.function retracing. Tracing is expensive and the excessive number of tracings could be due to (1) creating @tf.function repeatedly in a loop, (2) passing tensors with different shapes, (3) passing Python objects instead of tensors. For (1), please define your @tf.function outside of the loop. For (2), @tf.function has experimental_relax_shapes=True option that relaxes argument shapes that can avoid unnecessary retracing. For (3), please refer to https://www.tensorflow.org/guide/function#controlling_retracing and https://www.tensorflow.org/api_docs/python/tf/function for  more details.\n"
          ],
          "name": "stdout"
        },
        {
          "output_type": "stream",
          "text": [
            "127.0.0.1 - - [18/Mar/2021 16:06:07] \"\u001b[37mPOST /penta HTTP/1.1\u001b[0m\" 200 -\n"
          ],
          "name": "stderr"
        },
        {
          "output_type": "stream",
          "text": [
            "cervical_cancer\n",
            "sfvnvjknb\n"
          ],
          "name": "stdout"
        },
        {
          "output_type": "stream",
          "text": [
            "127.0.0.1 - - [18/Mar/2021 16:06:16] \"\u001b[37mOPTIONS /penta HTTP/1.1\u001b[0m\" 200 -\n"
          ],
          "name": "stderr"
        },
        {
          "output_type": "stream",
          "text": [
            "[INFO] loading model...\n",
            "WARNING:tensorflow:11 out of the last 11 calls to <function Model.make_predict_function.<locals>.predict_function at 0x7fc6632e7680> triggered tf.function retracing. Tracing is expensive and the excessive number of tracings could be due to (1) creating @tf.function repeatedly in a loop, (2) passing tensors with different shapes, (3) passing Python objects instead of tensors. For (1), please define your @tf.function outside of the loop. For (2), @tf.function has experimental_relax_shapes=True option that relaxes argument shapes that can avoid unnecessary retracing. For (3), please refer to https://www.tensorflow.org/guide/function#controlling_retracing and https://www.tensorflow.org/api_docs/python/tf/function for  more details.\n"
          ],
          "name": "stdout"
        },
        {
          "output_type": "stream",
          "text": [
            "127.0.0.1 - - [18/Mar/2021 16:06:19] \"\u001b[37mPOST /penta HTTP/1.1\u001b[0m\" 200 -\n"
          ],
          "name": "stderr"
        },
        {
          "output_type": "stream",
          "text": [
            "cervical_cancer\n",
            "sfvnvjknb\n"
          ],
          "name": "stdout"
        }
      ]
    }
  ]
}